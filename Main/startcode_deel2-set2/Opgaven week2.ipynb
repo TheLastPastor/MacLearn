{
 "cells": [
  {
   "cell_type": "markdown",
   "id": "0c17c6b3-02aa-4632-bdaa-dd802e867f87",
   "metadata": {},
   "source": [
    "Download de dataset met behulp van load_iris() uit sklearn.datasets."
   ]
  },
  {
   "cell_type": "code",
   "execution_count": 12,
   "id": "cabf2a69-9662-4844-b708-fe749125f700",
   "metadata": {},
   "outputs": [],
   "source": [
    "from sklearn.datasets import load_iris\n",
    "import numpy as np\n",
    "from matplotlib import pyplot as plt\n",
    "import pandas as pd"
   ]
  },
  {
   "cell_type": "markdown",
   "id": "212415dd-d058-49b6-bf9d-ede4aa1fa5b6",
   "metadata": {},
   "source": [
    "Vul je featurematrix X op basis van de data.  \n",
    "De uitkomstvector y ga je vullen op basis van target."
   ]
  },
  {
   "cell_type": "code",
   "execution_count": 2,
   "id": "cd40d463-21e4-41fa-8571-a9347f1188a8",
   "metadata": {},
   "outputs": [],
   "source": [
    "iris = load_iris()\n",
    "m, n = iris.data.shape\n",
    "X, y = iris.data, iris.target\n",
    "X = np.c_[np.ones(m), X]"
   ]
  },
  {
   "cell_type": "markdown",
   "id": "8c894b0f-f5fc-45d3-bf32-800c3db14e1f",
   "metadata": {},
   "source": [
    " Standaard bevat deze array de waardes 0, 1 en 2 (resp. 'setosa', 'versicolor', 'virginica').     Maak deze binair door 0 en 1 allebei 0 te maken (niet-virginica) en van elke 2 een 1 te maken (wel-virginica).   Denk erom dat y het juiste datatype en de juiste shape krijgt."
   ]
  },
  {
   "cell_type": "code",
   "execution_count": 3,
   "id": "ff4d6093-ba38-4a90-9b3b-f3be78c0b259",
   "metadata": {},
   "outputs": [],
   "source": [
    "y_bool = np.array([0 if i <= 1 else 1 for i in y])"
   ]
  },
  {
   "cell_type": "markdown",
   "id": "246d23ef-005c-4e08-be97-700cc6836948",
   "metadata": {},
   "source": [
    "Definieer een functie sigmoid() die de sigmoïde-functie implementeert."
   ]
  },
  {
   "cell_type": "code",
   "execution_count": 4,
   "id": "7bbe84c4-cb8a-45c4-8e1a-fbab0577ce66",
   "metadata": {},
   "outputs": [],
   "source": [
    "def sigmoid(z):\n",
    "    return 1 / (1 + np.exp(-z))"
   ]
  },
  {
   "cell_type": "markdown",
   "id": "fb68e732-762d-4738-8daa-74f1fcf11653",
   "metadata": {},
   "source": [
    "Initialiseer een vector theta met 1.0'en in de juiste shape.  "
   ]
  },
  {
   "cell_type": "code",
   "execution_count": 5,
   "id": "ab6ad086-2035-4d9f-a786-818fbbeee1ce",
   "metadata": {},
   "outputs": [
    {
     "name": "stdout",
     "output_type": "stream",
     "text": [
      "[[0.]\n",
      " [0.]\n",
      " [0.]\n",
      " [0.]\n",
      " [0.]]\n"
     ]
    }
   ],
   "source": [
    "theta = np.zeros((n+1, 1))\n",
    "print(theta)"
   ]
  },
  {
   "cell_type": "code",
   "execution_count": 6,
   "id": "157e14e5-2a93-453d-89ab-3c8f1089336e",
   "metadata": {},
   "outputs": [],
   "source": [
    "def compute_cost(X, y, theta):\n",
    "    m = len(y)\n",
    "    predictions = sigmoid(np.dot(X, theta))\n",
    "    #log loss cost function\n",
    "    return -(1/m) * np.sum(y * np.log(predictions) + (1 - y) * np.log(1 - predictions))"
   ]
  },
  {
   "cell_type": "markdown",
   "id": "eaa5c2ba-22b2-4758-860b-93f619301f7c",
   "metadata": {},
   "source": [
    "Nu kun je beginnen aan de loop waarin je in 1500 iteraties:  \n",
    "De voorspellingen (denk aan sigmoid!) en de errors berekent.\n",
    "De gradient berekent en theta aanpast. Werk in eerste instantie met een learning rate van 0.01.\n",
    "De kosten berekent.\n",
    "Als het goed is, zie je de kosten (vanaf een beginwaarde rond 8) steeds dalen kom je aan het einde rond 0,24 uit. Werk je met de niet-negatieve versie van de kostenfunctie, dan ga ja van ongeveer -8 naar -0,24.\n",
    "Experimenteer eens met andere waardes van de learning rate (1.0 < alpha < 0.0) en het aantal iteraties."
   ]
  },
  {
   "cell_type": "code",
   "execution_count": 27,
   "id": "3005865a-4feb-488a-af02-56c0a3b54057",
   "metadata": {},
   "outputs": [
    {
     "name": "stdout",
     "output_type": "stream",
     "text": [
      "['sepal length (cm)', 'sepal width (cm)', 'petal length (cm)', 'petal width (cm)']\n",
      "[-0.38909354 -0.84919154 -0.86382937  1.34527192  1.0099789 ]\n"
     ]
    },
    {
     "data": {
      "image/png": "[encoded data removed]",
      "text/plain": [
       "<Figure size 640x480 with 1 Axes>"
      ]
     },
     "metadata": {},
     "output_type": "display_data"
    }
   ],
   "source": [
    "costs = []\n",
    "alpha = 0.01\n",
    "num_iters = 1500\n",
    "m = len(y_bool)\n",
    "theta = np.zeros(X.shape[1])\n",
    "\n",
    "for _ in range(num_iters):\n",
    "    # bereken voorspellingen mbv sigmoid functie (0/1)\n",
    "    predictions = sigmoid(np.dot(X, theta)) \n",
    "    errors = predictions - y_bool\n",
    "    gradient = (1/m) * np.dot(X.T, errors)\n",
    "    #update theta\n",
    "    theta -= alpha*gradient\n",
    "    cost = compute_cost(X,y_bool, theta)\n",
    "    costs.append(cost)\n",
    "\n",
    "plt.plot(costs)\n",
    "plt.xlabel('Iteraties')\n",
    "plt.ylabel('Kosten')\n",
    "plt.show\n",
    "\n",
    "print(iris.feature_names)\n",
    "print(theta)"
   ]
  }
 ],
 "metadata": {
  "kernelspec": {
   "display_name": "Python 3 (ipykernel)",
   "language": "python",
   "name": "python3"
  },
  "language_info": {
   "codemirror_mode": {
    "name": "ipython",
    "version": 3
   },
   "file_extension": ".py",
   "mimetype": "text/x-python",
   "name": "python",
   "nbconvert_exporter": "python",
   "pygments_lexer": "ipython3",
   "version": "3.9.19"
  }
 },
 "nbformat": 4,
 "nbformat_minor": 5
}
